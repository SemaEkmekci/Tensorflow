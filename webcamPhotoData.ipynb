{
 "cells": [
  {
   "cell_type": "code",
   "execution_count": 1,
   "id": "b2247565",
   "metadata": {},
   "outputs": [],
   "source": [
    "import cv2 #Opencv\n",
    "import os #Dosya yolları için\n",
    "import time #Webcam açıldıktan sonra belirli saniye aralıklarla görüntü almak için\n",
    "import uuid #Görüntü dosyalarını adlandırmak için"
   ]
  },
  {
   "cell_type": "code",
   "execution_count": 2,
   "id": "c8975b65",
   "metadata": {},
   "outputs": [],
   "source": [
    "images_path = 'Tensorflow/workspace/images/collectedimages' #webcam'den alacağımız resimlerin kayıt edileceği yol"
   ]
  },
  {
   "cell_type": "code",
   "execution_count": 3,
   "id": "0bc7c389",
   "metadata": {},
   "outputs": [],
   "source": [
    "labels = ['merhaba', 'evet','seniseviyorum'] #Eğiteceğimiz sınıflar\n",
    "number_images = 15 #her bir sınıfdan kaç veri alacağız. 13 tanesi eğitim için 2 tanesi test için kullanılacak."
   ]
  },
  {
   "cell_type": "code",
   "execution_count": 4,
   "id": "8cb578a6",
   "metadata": {},
   "outputs": [
    {
     "name": "stderr",
     "output_type": "stream",
     "text": [
      "A subdirectory or file Tensorflow\\workspace\\images\\collectedimages\\merhaba already exists.\n",
      "Error occurred while processing: Tensorflow\\workspace\\images\\collectedimages\\merhaba.\n",
      "A subdirectory or file #Her already exists.\n",
      "Error occurred while processing: #Her.\n",
      "A subdirectory or file bir already exists.\n",
      "Error occurred while processing: bir.\n",
      "A subdirectory or file sınıf already exists.\n",
      "Error occurred while processing: sınıf.\n",
      "A subdirectory or file için already exists.\n",
      "Error occurred while processing: için.\n",
      "A subdirectory or file bir already exists.\n",
      "Error occurred while processing: bir.\n",
      "A subdirectory or file klasör already exists.\n",
      "Error occurred while processing: klasör.\n",
      "A subdirectory or file oluşturuyor. already exists.\n",
      "Error occurred while processing: oluşturuyor..\n"
     ]
    },
    {
     "name": "stdout",
     "output_type": "stream",
     "text": [
      "Collecting images for merhaba\n"
     ]
    },
    {
     "name": "stderr",
     "output_type": "stream",
     "text": [
      "A subdirectory or file Tensorflow\\workspace\\images\\collectedimages\\evet already exists.\n",
      "Error occurred while processing: Tensorflow\\workspace\\images\\collectedimages\\evet.\n",
      "A subdirectory or file #Her already exists.\n",
      "Error occurred while processing: #Her.\n",
      "A subdirectory or file bir already exists.\n",
      "Error occurred while processing: bir.\n",
      "A subdirectory or file sınıf already exists.\n",
      "Error occurred while processing: sınıf.\n",
      "A subdirectory or file için already exists.\n",
      "Error occurred while processing: için.\n",
      "A subdirectory or file bir already exists.\n",
      "Error occurred while processing: bir.\n",
      "A subdirectory or file klasör already exists.\n",
      "Error occurred while processing: klasör.\n",
      "A subdirectory or file oluşturuyor. already exists.\n",
      "Error occurred while processing: oluşturuyor..\n"
     ]
    },
    {
     "name": "stdout",
     "output_type": "stream",
     "text": [
      "Collecting images for evet\n"
     ]
    },
    {
     "name": "stderr",
     "output_type": "stream",
     "text": [
      "A subdirectory or file Tensorflow\\workspace\\images\\collectedimages\\hayır already exists.\n",
      "Error occurred while processing: Tensorflow\\workspace\\images\\collectedimages\\hayır.\n",
      "A subdirectory or file #Her already exists.\n",
      "Error occurred while processing: #Her.\n",
      "A subdirectory or file bir already exists.\n",
      "Error occurred while processing: bir.\n",
      "A subdirectory or file sınıf already exists.\n",
      "Error occurred while processing: sınıf.\n",
      "A subdirectory or file için already exists.\n",
      "Error occurred while processing: için.\n",
      "A subdirectory or file bir already exists.\n",
      "Error occurred while processing: bir.\n",
      "A subdirectory or file klasör already exists.\n",
      "Error occurred while processing: klasör.\n",
      "A subdirectory or file oluşturuyor. already exists.\n",
      "Error occurred while processing: oluşturuyor..\n"
     ]
    },
    {
     "name": "stdout",
     "output_type": "stream",
     "text": [
      "Collecting images for hayır\n"
     ]
    },
    {
     "name": "stderr",
     "output_type": "stream",
     "text": [
      "A subdirectory or file Tensorflow\\workspace\\images\\collectedimages\\seniseviyorum already exists.\n",
      "Error occurred while processing: Tensorflow\\workspace\\images\\collectedimages\\seniseviyorum.\n",
      "A subdirectory or file #Her already exists.\n",
      "Error occurred while processing: #Her.\n",
      "A subdirectory or file bir already exists.\n",
      "Error occurred while processing: bir.\n",
      "A subdirectory or file sınıf already exists.\n",
      "Error occurred while processing: sınıf.\n",
      "A subdirectory or file için already exists.\n",
      "Error occurred while processing: için.\n",
      "A subdirectory or file bir already exists.\n",
      "Error occurred while processing: bir.\n",
      "A subdirectory or file klasör already exists.\n",
      "Error occurred while processing: klasör.\n",
      "A subdirectory or file oluşturuyor. already exists.\n",
      "Error occurred while processing: oluşturuyor..\n"
     ]
    },
    {
     "name": "stdout",
     "output_type": "stream",
     "text": [
      "Collecting images for seniseviyorum\n"
     ]
    }
   ],
   "source": [
    "for label in labels:\n",
    "    !mkdir {'Tensorflow\\workspace\\images\\collectedimages\\\\'+ label} \n",
    "    #Her bir sınıf için bir klasör oluşturuyor.\n",
    "    cap = cv2.VideoCapture(0) #video çekimini başlatıyor.\n",
    "    print('Collecting images for {}'.format(label))\n",
    "    time.sleep(5)\n",
    "    for imgnum in range(number_images): #Her bir sınıf için 15 adet resim yakalanacak.\n",
    "        ret, frame = cap.read() #Burada resmi yakalıyor.\n",
    "        image_name = os.path.join(images_path, label, label+'.'+'{}.jpg'.format(str(uuid.uuid1()))) #yakalanan resme isim veriyoruz.\n",
    "        cv2.imwrite(image_name,frame) #yakalanan resmi kayıt ediyoruz.\n",
    "        cv2.imshow('frame', frame) #yakalanan resmimizi gösteriyor.\n",
    "        time.sleep(2) #diğer resmi yakalamak için 2 sn bekliyoruz\n",
    "        \n",
    "        if cv2.waitKey(1) & 0xFF == ord('q'):\n",
    "            break\n",
    "    cap.release()   #kamerayı kapatıyoruz."
   ]
  },
  {
   "cell_type": "code",
   "execution_count": null,
   "id": "5454bb1f",
   "metadata": {},
   "outputs": [],
   "source": []
  }
 ],
 "metadata": {
  "kernelspec": {
   "display_name": "Python 3 (ipykernel)",
   "language": "python",
   "name": "python3"
  },
  "language_info": {
   "codemirror_mode": {
    "name": "ipython",
    "version": 3
   },
   "file_extension": ".py",
   "mimetype": "text/x-python",
   "name": "python",
   "nbconvert_exporter": "python",
   "pygments_lexer": "ipython3",
   "version": "3.10.9"
  }
 },
 "nbformat": 4,
 "nbformat_minor": 5
}
